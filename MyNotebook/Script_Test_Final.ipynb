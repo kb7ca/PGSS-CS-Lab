{
  "nbformat": 4,
  "nbformat_minor": 0,
  "metadata": {
    "colab": {
      "name": "Script Test Final",
      "provenance": []
    },
    "kernelspec": {
      "name": "python3",
      "display_name": "Python 3"
    }
  },
  "cells": [
    {
      "cell_type": "markdown",
      "metadata": {
        "id": "9YrG7uEvjEYE",
        "colab_type": "text"
      },
      "source": [
        "# Connect Colab to Google Drive\n"
      ]
    },
    {
      "cell_type": "code",
      "metadata": {
        "id": "dntrIrYNmMtO",
        "colab_type": "code",
        "colab": {
          "base_uri": "https://localhost:8080/",
          "height": 131
        },
        "outputId": "cb8d46ef-5932-459e-fbb8-062069744c1b"
      },
      "source": [
        "from google.colab import drive\n",
        "drive.mount( '/content/drive' )"
      ],
      "execution_count": null,
      "outputs": [
        {
          "output_type": "stream",
          "text": [
            "Go to this URL in a browser: https://accounts.google.com/o/oauth2/auth?client_id=947318989803-6bn6qk8qdgf4n4g3pfee6491hc0brc4i.apps.googleusercontent.com&redirect_uri=urn%3aietf%3awg%3aoauth%3a2.0%3aoob&response_type=code&scope=email%20https%3a%2f%2fwww.googleapis.com%2fauth%2fdocs.test%20https%3a%2f%2fwww.googleapis.com%2fauth%2fdrive%20https%3a%2f%2fwww.googleapis.com%2fauth%2fdrive.photos.readonly%20https%3a%2f%2fwww.googleapis.com%2fauth%2fpeopleapi.readonly\n",
            "\n",
            "Enter your authorization code:\n",
            "··········\n",
            "Mounted at /content/drive\n"
          ],
          "name": "stdout"
        }
      ]
    },
    {
      "cell_type": "markdown",
      "metadata": {
        "id": "c8ZwlAhjjI6K",
        "colab_type": "text"
      },
      "source": [
        "# Read a file from Github as a RAW file into a Pandas data frame\n"
      ]
    },
    {
      "cell_type": "code",
      "metadata": {
        "id": "9L5HQs72leYk",
        "colab_type": "code",
        "colab": {}
      },
      "source": [
        "import pandas as pd\n",
        "ChicagoData = pd.read_csv('https://raw.githubusercontent.com/menonpg/covid19_Chicago/master/timeSeries_COVID19_Chicago.csv')"
      ],
      "execution_count": null,
      "outputs": []
    },
    {
      "cell_type": "markdown",
      "metadata": {
        "id": "MKUk4DmcjwMY",
        "colab_type": "text"
      },
      "source": [
        "# Summarize that data"
      ]
    },
    {
      "cell_type": "code",
      "metadata": {
        "id": "WKxJ3rJ5lqTA",
        "colab_type": "code",
        "colab": {
          "base_uri": "https://localhost:8080/",
          "height": 241
        },
        "outputId": "a9fe7cf6-011e-4ae7-d429-11265c3edab0"
      },
      "source": [
        "print(\"Min values by column \\n\" + str(ChicagoData.aggregate( 'min' )) + '\\n\\n')\n",
        "print(\"Max values by column \\n\" + str(ChicagoData.aggregate( 'max' )))\n"
      ],
      "execution_count": null,
      "outputs": [
        {
          "output_type": "stream",
          "text": [
            "Min values by column \n",
            "Cases            598\n",
            "Deaths             4\n",
            "Date      2020-03-24\n",
            "dtype: object\n",
            "\n",
            "\n",
            "Max values by column \n",
            "Cases          52813\n",
            "Deaths          2623\n",
            "Date      2020-07-02\n",
            "dtype: object\n"
          ],
          "name": "stdout"
        }
      ]
    },
    {
      "cell_type": "markdown",
      "metadata": {
        "id": "3F2zAZwKj5T8",
        "colab_type": "text"
      },
      "source": [
        "# Read a file from Google Drive into a separate Pandas data frame"
      ]
    },
    {
      "cell_type": "code",
      "metadata": {
        "id": "Beanwltxpgmv",
        "colab_type": "code",
        "colab": {}
      },
      "source": [
        "import pandas as pd\n",
        "ChicagoData_fromDrive = pd.read_csv('/content/drive/My Drive/Data/Chicago COVID-19 Statistics')"
      ],
      "execution_count": null,
      "outputs": []
    }
  ]
}