{
  "nbformat": 4,
  "nbformat_minor": 0,
  "metadata": {
    "colab": {
      "name": "Script Test",
      "provenance": []
    },
    "kernelspec": {
      "name": "python3",
      "display_name": "Python 3"
    }
  },
  "cells": [
    {
      "cell_type": "code",
      "metadata": {
        "id": "id5uiNK6UA2C",
        "colab_type": "code",
        "colab": {}
      },
      "source": [
        "Code"
      ],
      "execution_count": null,
      "outputs": []
    }
  ]
}